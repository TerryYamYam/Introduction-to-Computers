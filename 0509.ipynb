{
  "nbformat": 4,
  "nbformat_minor": 0,
  "metadata": {
    "colab": {
      "name": "0509.ipynb",
      "provenance": [],
      "authorship_tag": "ABX9TyNclVIsxDIkSjfbDnzB7sad",
      "include_colab_link": true
    },
    "kernelspec": {
      "name": "python3",
      "display_name": "Python 3"
    },
    "language_info": {
      "name": "python"
    }
  },
  "cells": [
    {
      "cell_type": "markdown",
      "metadata": {
        "id": "view-in-github",
        "colab_type": "text"
      },
      "source": [
        "<a href=\"https://colab.research.google.com/github/TerryYamYam/Introduction-to-Computers/blob/main/0509.ipynb\" target=\"_parent\"><img src=\"https://colab.research.google.com/assets/colab-badge.svg\" alt=\"Open In Colab\"/></a>"
      ]
    },
    {
      "cell_type": "code",
      "execution_count": 1,
      "metadata": {
        "colab": {
          "base_uri": "https://localhost:8080/"
        },
        "id": "E05FFsHr7g-Z",
        "outputId": "1a7ae119-c5c1-49d9-d575-1f2140af8ba2"
      },
      "outputs": [
        {
          "output_type": "stream",
          "name": "stdout",
          "text": [
            "123\n"
          ]
        }
      ],
      "source": [
        "print(\"123\")"
      ]
    },
    {
      "cell_type": "code",
      "source": [
        "temp= float(input(\"請輸入你的體溫\"))\n",
        "if temp >=37.5:\n",
        "    print(\"體溫過高!\")\n",
        "elif temp >=37 and temp < 37.4:\n",
        "    print(\"體溫略高!\")\n",
        "elif temp >=34 and temp <= 36.9:\n",
        "    print(\"體溫正常!\")\n",
        "else:\n",
        "    print(\"體溫異常，請重新量測\")"
      ],
      "metadata": {
        "colab": {
          "base_uri": "https://localhost:8080/"
        },
        "id": "8f2c5SDg8pYY",
        "outputId": "eb6032dd-8b08-44c3-821f-afeef992bf70"
      },
      "execution_count": 5,
      "outputs": [
        {
          "output_type": "stream",
          "name": "stdout",
          "text": [
            "請輸入你的體溫33.9\n",
            "體溫異常，請重新量測\n"
          ]
        }
      ]
    },
    {
      "cell_type": "code",
      "source": [
        "score = input(\"請輸入成績\")\n",
        "if(int(score) >= 90):\n",
        "    print(\"A\")\n",
        "elif(int(score) >= 80):\n",
        "    print(\"B\")\n",
        "elif(int(score) >= 70):\n",
        "    print(\"C\")\n",
        "elif(int(score) >= 60):\n",
        "    print(\"D\")\n",
        "else:\n",
        "    print(\"E\")"
      ],
      "metadata": {
        "colab": {
          "base_uri": "https://localhost:8080/"
        },
        "id": "xlF6B9U1AgJY",
        "outputId": "91bd7753-6047-47a6-c051-f0e686ccb02e"
      },
      "execution_count": 6,
      "outputs": [
        {
          "output_type": "stream",
          "name": "stdout",
          "text": [
            "請輸入成績50\n",
            "E\n"
          ]
        }
      ]
    },
    {
      "cell_type": "code",
      "source": [
        "money = int(input(\"請輸入購物金額\"))\n",
        "if (money >= 10000):\n",
        "  if(money >= 100000):\n",
        "    print(\"八折\", money *0.8, end = \"元\\n\")\n",
        "  elif(money >= 50000):\n",
        "    print(\"八五折\", money *0.85, end = \"元\\n\")\n",
        "  elif(money >= 30000):\n",
        "    print(\"九折\", money *0.9, end = \"元\\n\")\n",
        "  else:\n",
        "    print(\"九五折\", money *0.95, end = \"元\\n\")\n",
        "else:\n",
        "  print(\"沒打折\", money, end = \"元\\n\")"
      ],
      "metadata": {
        "colab": {
          "base_uri": "https://localhost:8080/"
        },
        "id": "mgz9kFDZFL-9",
        "outputId": "2b87f62c-deae-4a97-944d-1e3db825ca37"
      },
      "execution_count": 14,
      "outputs": [
        {
          "output_type": "stream",
          "name": "stdout",
          "text": [
            "請輸入購物金額100\n",
            "沒打折 100元\n"
          ]
        }
      ]
    },
    {
      "cell_type": "code",
      "source": [
        "money = int(input(\"請輸入購物金額\"))\n",
        "if (money >= 10000):\n",
        "  if(money >= 100000):\n",
        "    print(\"八折\", money *0.8, end = \"元\\n\")\n",
        "  elif(money >= 50000):\n",
        "    print(\"八五折\", money *0.85, end = \"元\\n\")\n",
        "  elif(money >= 30000):\n",
        "    print(\"九折\", money *0.9, end = \"元\\n\")\n",
        "  else:\n",
        "    print(\"九五折\", money *0.95, end = \"元\\n\")\n",
        "else:\n",
        "  print(\"沒打折\", money, end = \"元\\n\")"
      ],
      "metadata": {
        "colab": {
          "base_uri": "https://localhost:8080/"
        },
        "id": "VAJJZTEcGdAZ",
        "outputId": "f7630ac1-57a8-4e83-c91f-c14a467a8ea6"
      },
      "execution_count": 13,
      "outputs": [
        {
          "output_type": "stream",
          "name": "stdout",
          "text": [
            "請輸入購物金額100000\n",
            "八折 80000.0元\n"
          ]
        }
      ]
    },
    {
      "cell_type": "code",
      "source": [
        "month = int(input(\"請輸入月份\"))\n",
        "if month in [3,4,5]:\n",
        "    print(month, \"月是春天!\",sep = '')\n",
        "elif month in [6,7,8]:\n",
        "    print(month, \"月是夏天!\",sep = '')\n",
        "elif month in [9,10,11]:\n",
        "    print(month, \"月是秋天!\",sep = '')\n",
        "elif month in [12,1,2]:\n",
        "    print(month, \"月是冬天!\",sep = '')\n",
        "else:\n",
        "  print(\"月份不在範圍內!\")"
      ],
      "metadata": {
        "colab": {
          "base_uri": "https://localhost:8080/"
        },
        "id": "JdEb6wmJHZ1O",
        "outputId": "f989fc82-72cf-4c11-b392-68202fa4ab3f"
      },
      "execution_count": 49,
      "outputs": [
        {
          "output_type": "stream",
          "name": "stdout",
          "text": [
            "請輸入月份12\n",
            "12月是冬天!\n"
          ]
        }
      ]
    },
    {
      "cell_type": "code",
      "source": [
        "income = int(input(\"請輸入今年收入淨額\"))\n",
        "if(income >= 2000000):\n",
        "    print(\"付稅金額:\",income*0.3, end = \"元\\n\")\n",
        "elif(income >= 1000000):\n",
        "    print(\"付稅金額:\",income*0.21, end = \"元\\n\")\n",
        "elif(income >= 600000):\n",
        "    print(\"付稅金額:\",income*0.13, end = \"元\\n\")\n",
        "elif(income >= 300000):\n",
        "    print(\"付稅金額:\",income*0.06, end = \"元\\n\")\n",
        "else:\n",
        "    print(\"付稅金額:\",income*0, end = \"元\\n\")"
      ],
      "metadata": {
        "colab": {
          "base_uri": "https://localhost:8080/"
        },
        "id": "yyRcmHvaRUZT",
        "outputId": "734a2b86-d7d7-4ae4-d2b5-a109e27c020c"
      },
      "execution_count": 53,
      "outputs": [
        {
          "output_type": "stream",
          "name": "stdout",
          "text": [
            "請輸入今年收入淨額100000\n",
            "付稅金額: 0元\n"
          ]
        }
      ]
    },
    {
      "cell_type": "code",
      "source": [
        "income = int(input(\"請輸入今年收入淨額\"))\n",
        "if(income >= 2000000):\n",
        "    print(\"付稅金額:\",income*0.3, end = \"元\\n\")\n",
        "elif(income >= 1000000):\n",
        "    print(\"付稅金額:\",income*0.21, end = \"元\\n\")\n",
        "elif(income >= 600000):\n",
        "    print(\"付稅金額:\",income*0.13, end = \"元\\n\")\n",
        "elif(income >= 300000):\n",
        "    print(\"付稅金額:\",income*0.06, end = \"元\\n\")\n",
        "else:\n",
        "    print(\"付稅金額:\",income*0, end = \"元\\n\")"
      ],
      "metadata": {
        "colab": {
          "base_uri": "https://localhost:8080/"
        },
        "id": "G928SHagSya-",
        "outputId": "0923f41e-636c-4bcc-d382-464cc54bdd31"
      },
      "execution_count": 54,
      "outputs": [
        {
          "output_type": "stream",
          "name": "stdout",
          "text": [
            "請輸入今年收入淨額2000000\n",
            "付稅金額: 600000.0元\n"
          ]
        }
      ]
    },
    {
      "cell_type": "code",
      "source": [
        "consumption = int(input(\"請輸入購物金額\"))\n",
        "if(consumption >= 100000):\n",
        "    print(\"八折\",consumption*0.8, end = \"元\\n\")\n",
        "elif(consumption >= 50000):\n",
        "    print(\"八五折\",consumption*0.85, end = \"元\\n\")\n",
        "elif(consumption >= 30000):\n",
        "    print(\"九折\",consumption*0.9, end = \"元\\n\")\n",
        "elif(consumption >= 10000):\n",
        "    print(\"九五折\",consumption*0.95, end = \"元\\n\")\n",
        "else:\n",
        "    print(\"沒打折\",consumption, end = \"元\\n\")"
      ],
      "metadata": {
        "colab": {
          "base_uri": "https://localhost:8080/"
        },
        "id": "bTLPmpaZSzfb",
        "outputId": "e7043cff-7a68-4603-deb3-fe82247fdea5"
      },
      "execution_count": 56,
      "outputs": [
        {
          "output_type": "stream",
          "name": "stdout",
          "text": [
            "請輸入購物金額100\n",
            "沒打折 100元\n"
          ]
        }
      ]
    },
    {
      "cell_type": "code",
      "source": [
        "consumption = int(input(\"請輸入購物金額\"))\n",
        "if(consumption >= 100000):\n",
        "    print(\"八折\",consumption*0.8, end = \"元\\n\")\n",
        "elif(consumption >= 50000):\n",
        "    print(\"八五折\",consumption*0.85, end = \"元\\n\")\n",
        "elif(consumption >= 30000):\n",
        "    print(\"九折\",consumption*0.9, end = \"元\\n\")\n",
        "elif(consumption >= 10000):\n",
        "    print(\"九五折\",consumption*0.95, end = \"元\\n\")\n",
        "else:\n",
        "    print(\"沒打折\",consumption, end = \"元\\n\")"
      ],
      "metadata": {
        "colab": {
          "base_uri": "https://localhost:8080/"
        },
        "id": "TPOBVNPiUlig",
        "outputId": "0319dc80-4934-43fa-b0f6-2a34a1834216"
      },
      "execution_count": 57,
      "outputs": [
        {
          "output_type": "stream",
          "name": "stdout",
          "text": [
            "請輸入購物金額100000\n",
            "八折 80000.0元\n"
          ]
        }
      ]
    }
  ]
}