{
  "nbformat": 4,
  "nbformat_minor": 0,
  "metadata": {
    "colab": {
      "name": "0531（助教課）.ipynb",
      "provenance": [],
      "collapsed_sections": [],
      "authorship_tag": "ABX9TyOk2z6N94SmaMVV77SQuk7G",
      "include_colab_link": true
    },
    "kernelspec": {
      "name": "python3",
      "display_name": "Python 3"
    },
    "language_info": {
      "name": "python"
    }
  },
  "cells": [
    {
      "cell_type": "markdown",
      "metadata": {
        "id": "view-in-github",
        "colab_type": "text"
      },
      "source": [
        "<a href=\"https://colab.research.google.com/github/TerryYamYam/Introduction-to-Computers/blob/main/0531%EF%BC%88%E5%8A%A9%E6%95%99%E8%AA%B2%EF%BC%89.ipynb\" target=\"_parent\"><img src=\"https://colab.research.google.com/assets/colab-badge.svg\" alt=\"Open In Colab\"/></a>"
      ]
    },
    {
      "cell_type": "code",
      "execution_count": null,
      "metadata": {
        "colab": {
          "base_uri": "https://localhost:8080/"
        },
        "id": "5qBVjh_vfDip",
        "outputId": "db6385b1-c27d-4af0-b316-910601ed5913"
      },
      "outputs": [
        {
          "output_type": "stream",
          "name": "stdout",
          "text": [
            "180\n"
          ]
        }
      ],
      "source": [
        "a=[[[180,80],[169,60]],[[170,58],[185,77]],[[160,45],[165,50]]]\n",
        "print(a[0][0][0])"
      ]
    },
    {
      "cell_type": "code",
      "source": [
        "i = 0\n",
        "while i!=10:\n",
        "  print(i)\n",
        "  i=i+1"
      ],
      "metadata": {
        "colab": {
          "base_uri": "https://localhost:8080/"
        },
        "id": "GOU_VhnLj2V6",
        "outputId": "ec509bec-b073-4742-8e89-dc02e201f1d1"
      },
      "execution_count": null,
      "outputs": [
        {
          "output_type": "stream",
          "name": "stdout",
          "text": [
            "0\n",
            "1\n",
            "2\n",
            "3\n",
            "4\n",
            "5\n",
            "6\n",
            "7\n",
            "8\n",
            "9\n"
          ]
        }
      ]
    },
    {
      "cell_type": "code",
      "source": [
        "i=\"a\"\n",
        "while i!=\"a\":\n",
        "  print(\"!=i\")\n",
        "print(\"=a\")"
      ],
      "metadata": {
        "colab": {
          "base_uri": "https://localhost:8080/"
        },
        "id": "n0JXV-bOkC5Q",
        "outputId": "21cb4101-e5f5-4b37-ccf2-14b44c022dd8"
      },
      "execution_count": null,
      "outputs": [
        {
          "output_type": "stream",
          "name": "stdout",
          "text": [
            "=a\n"
          ]
        }
      ]
    },
    {
      "cell_type": "code",
      "source": [
        "password = 88\n",
        "enter = int(input(\"輸入密碼:\"))\n",
        "\n",
        "while enter != password:\n",
        "    if enter > password:\n",
        "        print(\"太大\")\n",
        "    else:\n",
        "        print(\"太小\")\n",
        "    enter = int(input(\"輸入密碼:\"))\n",
        "print(\"成功\")"
      ],
      "metadata": {
        "colab": {
          "base_uri": "https://localhost:8080/"
        },
        "id": "SyYq8Hz2r6Ck",
        "outputId": "da2c12f9-6156-4af4-896d-051119bf6dd3"
      },
      "execution_count": null,
      "outputs": [
        {
          "output_type": "stream",
          "name": "stdout",
          "text": [
            "輸入密碼:1234\n",
            "太大\n",
            "輸入密碼:100\n",
            "太大\n",
            "輸入密碼:80\n",
            "太小\n",
            "輸入密碼:85\n",
            "太小\n",
            "輸入密碼:88\n",
            "成功\n"
          ]
        }
      ]
    },
    {
      "cell_type": "code",
      "source": [
        "ans = 88\n",
        "a = int(input(\"請猜1-100數字:\"))\n",
        "\n",
        "while a!=ans:\n",
        "  if a>ans:\n",
        "    print(\"數字太大了\")\n",
        "    a = int(input(\"請再猜一次:\"))\n",
        "\n",
        "  elif a<ans:\n",
        "    print(\"數字太小\")\n",
        "    a = int(input(\"請再猜一次:\"))\n",
        "\n",
        "print(\"答對了!!\")"
      ],
      "metadata": {
        "colab": {
          "base_uri": "https://localhost:8080/"
        },
        "id": "ommAIRwNkn39",
        "outputId": "6e47448d-52c1-4da8-f7fd-60be3fe97f88"
      },
      "execution_count": null,
      "outputs": [
        {
          "output_type": "stream",
          "name": "stdout",
          "text": [
            "請猜1-100數字:50\n",
            "數字太小\n",
            "請再猜一次:80\n",
            "數字太小\n",
            "請再猜一次:90\n",
            "數字太大了\n",
            "請再猜一次:88\n",
            "答對了!!\n"
          ]
        }
      ]
    },
    {
      "cell_type": "code",
      "source": [
        "for i in range(1,10):\n",
        "    print(f\"i={i}\")\n",
        "print(\"結束迴圈\")"
      ],
      "metadata": {
        "colab": {
          "base_uri": "https://localhost:8080/"
        },
        "id": "gLO3NVQy0G3w",
        "outputId": "8fdef35b-b436-490f-ecdd-a342b4eb356e"
      },
      "execution_count": null,
      "outputs": [
        {
          "output_type": "stream",
          "name": "stdout",
          "text": [
            "i=1\n",
            "i=2\n",
            "i=3\n",
            "i=4\n",
            "i=5\n",
            "i=6\n",
            "i=7\n",
            "i=8\n",
            "i=9\n",
            "結束迴圈\n"
          ]
        }
      ]
    },
    {
      "cell_type": "code",
      "source": [
        "for i in range(1,10):\n",
        "    print(f\"i={i*3}\")\n",
        "print(\"結束迴圈\")"
      ],
      "metadata": {
        "colab": {
          "base_uri": "https://localhost:8080/"
        },
        "id": "B7QtzWas0RNc",
        "outputId": "98c3daf7-00b3-4ee7-dc01-d907457c2966"
      },
      "execution_count": null,
      "outputs": [
        {
          "output_type": "stream",
          "name": "stdout",
          "text": [
            "i=3\n",
            "i=6\n",
            "i=9\n",
            "i=12\n",
            "i=15\n",
            "i=18\n",
            "i=21\n",
            "i=24\n",
            "i=27\n",
            "結束迴圈\n"
          ]
        }
      ]
    },
    {
      "cell_type": "code",
      "source": [
        "for i in range(1,3):\n",
        "    print(f\"i={i}\")\n",
        "    for j in range(4,6):\n",
        "        print(f\"j={j}\")\n",
        "    print(\"跳出\")\n",
        "print(\"結束\")"
      ],
      "metadata": {
        "colab": {
          "base_uri": "https://localhost:8080/"
        },
        "id": "XeEOiPSt01Op",
        "outputId": "15b98971-ef80-4d70-8b83-c6c8a12a4349"
      },
      "execution_count": null,
      "outputs": [
        {
          "output_type": "stream",
          "name": "stdout",
          "text": [
            "i=1\n",
            "j=4\n",
            "j=5\n",
            "跳出\n",
            "i=2\n",
            "j=4\n",
            "j=5\n",
            "跳出\n",
            "結束\n"
          ]
        }
      ]
    },
    {
      "cell_type": "code",
      "source": [
        "for i in range(1,3):\n",
        "    print(f\"i={i}\")\n",
        "    for j in range(4,6):\n",
        "        print(f\"j={j}\",end=\"\\t\")"
      ],
      "metadata": {
        "colab": {
          "base_uri": "https://localhost:8080/"
        },
        "id": "wwc5D5MV1arq",
        "outputId": "620defe8-ee5a-4e37-aeef-69bc074c6b00"
      },
      "execution_count": null,
      "outputs": [
        {
          "output_type": "stream",
          "name": "stdout",
          "text": [
            "i=1\n",
            "j=4\tj=5\ti=2\n",
            "j=4\tj=5\t"
          ]
        }
      ]
    },
    {
      "cell_type": "code",
      "source": [
        "for i in range(1,3):\n",
        "    print(f\"i={i}\")\n",
        "    for j in range(4,6):\n",
        "        print(f\"j={j}\",end=\"\\t\")\n",
        "    print()"
      ],
      "metadata": {
        "colab": {
          "base_uri": "https://localhost:8080/"
        },
        "id": "rjY2xdD92b3Q",
        "outputId": "ba0eb36d-bdb8-45d2-986a-ceaab6f8aedd"
      },
      "execution_count": null,
      "outputs": [
        {
          "output_type": "stream",
          "name": "stdout",
          "text": [
            "i=1\n",
            "j=4\tj=5\t\n",
            "i=2\n",
            "j=4\tj=5\t\n"
          ]
        }
      ]
    },
    {
      "cell_type": "code",
      "source": [
        "for i in range(1, 10):\n",
        "    for j in range(1, 10):\n",
        "        print(f\"{j}*{i}={j*i}\", end=\"\\t\")\n",
        "    print()"
      ],
      "metadata": {
        "colab": {
          "base_uri": "https://localhost:8080/"
        },
        "id": "o2icCGLs2zEI",
        "outputId": "7c693135-7e99-4b33-f5f4-3c5ad33b2bb8"
      },
      "execution_count": null,
      "outputs": [
        {
          "output_type": "stream",
          "name": "stdout",
          "text": [
            "1*1=1\t2*1=2\t3*1=3\t4*1=4\t5*1=5\t6*1=6\t7*1=7\t8*1=8\t9*1=9\t\n",
            "1*2=2\t2*2=4\t3*2=6\t4*2=8\t5*2=10\t6*2=12\t7*2=14\t8*2=16\t9*2=18\t\n",
            "1*3=3\t2*3=6\t3*3=9\t4*3=12\t5*3=15\t6*3=18\t7*3=21\t8*3=24\t9*3=27\t\n",
            "1*4=4\t2*4=8\t3*4=12\t4*4=16\t5*4=20\t6*4=24\t7*4=28\t8*4=32\t9*4=36\t\n",
            "1*5=5\t2*5=10\t3*5=15\t4*5=20\t5*5=25\t6*5=30\t7*5=35\t8*5=40\t9*5=45\t\n",
            "1*6=6\t2*6=12\t3*6=18\t4*6=24\t5*6=30\t6*6=36\t7*6=42\t8*6=48\t9*6=54\t\n",
            "1*7=7\t2*7=14\t3*7=21\t4*7=28\t5*7=35\t6*7=42\t7*7=49\t8*7=56\t9*7=63\t\n",
            "1*8=8\t2*8=16\t3*8=24\t4*8=32\t5*8=40\t6*8=48\t7*8=56\t8*8=64\t9*8=72\t\n",
            "1*9=9\t2*9=18\t3*9=27\t4*9=36\t5*9=45\t6*9=54\t7*9=63\t8*9=72\t9*9=81\t\n"
          ]
        }
      ]
    },
    {
      "cell_type": "code",
      "source": [
        "minion = {\"類型\":\"近戰\",\"atk\":80,\"hp\":1300}\n",
        "minion[\"護甲\"] = 16\n",
        "print(minion)"
      ],
      "metadata": {
        "colab": {
          "base_uri": "https://localhost:8080/"
        },
        "id": "FzbO6_VCOUr4",
        "outputId": "1c4b55eb-b6bf-4bdc-e980-74d936c54e30"
      },
      "execution_count": null,
      "outputs": [
        {
          "output_type": "stream",
          "name": "stdout",
          "text": [
            "{'類型': '近戰', 'atk': 80, 'hp': 1300, '護甲': 16}\n"
          ]
        }
      ]
    },
    {
      "cell_type": "code",
      "source": [
        "warrior_minion = {\"atk\":80,\"hp\":1300,\"def\":16}\n",
        "distance_minion = {\"atk\":120,\"hp\":485,\"def\":0}\n",
        "minion = {\"近戰\":warrior_minion,\"遠程\":distance_minion}\n",
        "\n",
        "print(minion[\"遠程\"][\"hp\"])"
      ],
      "metadata": {
        "colab": {
          "base_uri": "https://localhost:8080/"
        },
        "id": "-FmpSiE-4Wht",
        "outputId": "a668c243-dc25-4abd-eccc-a515db66d97c"
      },
      "execution_count": null,
      "outputs": [
        {
          "output_type": "stream",
          "name": "stdout",
          "text": [
            "485\n"
          ]
        }
      ]
    },
    {
      "cell_type": "code",
      "source": [
        "Math_Score = {\"Amy\":90,\"Betty\":100,\"Cindy\":85,\"Dora\":77,\"Eva\":93}\n",
        "Language_Score = {\"Amy\":95,\"Betty\":97,\"Cindy\":88,\"Dora\":90,\"Eva\":91}\n",
        "Number = {21:Amy,22:Betty,23:Cindy,24:Dora,25:Eva}\n",
        "print(Number[23][\"Math_Score\"])"
      ],
      "metadata": {
        "colab": {
          "base_uri": "https://localhost:8080/"
        },
        "id": "aSSD4_fl5mCB",
        "outputId": "ccda8965-5741-4aa0-d1a6-f22de557d4a2"
      },
      "execution_count": null,
      "outputs": [
        {
          "output_type": "stream",
          "name": "stdout",
          "text": [
            "85\n"
          ]
        }
      ]
    },
    {
      "cell_type": "code",
      "source": [
        "Amy = {\"Math_Score\":90,\"Language_Score\":95}\n",
        "Betty = {\"Math_Score\":100,\"Language_Score\":97}\n",
        "Cindy = {\"Math_Score\":85,\"Language_Score\":88}\n",
        "Dora = {\"Math_Score\":77,\"Language_Score\":90}\n",
        "Eva = {\"Math_Score\":93,\"Language_Score\":91}\n",
        "Class_Score = {21:Amy,22:Betty,23:Cindy,24:Dora,25:Eva}\n",
        "print(Class_Score[23][\"Math_Score\"])"
      ],
      "metadata": {
        "colab": {
          "base_uri": "https://localhost:8080/"
        },
        "id": "l_D9l9OQ9pqQ",
        "outputId": "e436669d-efec-4c59-e11b-2bb768c4cb3a"
      },
      "execution_count": null,
      "outputs": [
        {
          "output_type": "stream",
          "name": "stdout",
          "text": [
            "85\n"
          ]
        }
      ]
    },
    {
      "cell_type": "code",
      "source": [
        "print(\"我好喜歡上資訊概論的助教課\")"
      ],
      "metadata": {
        "id": "DdcC0VCx_fNE",
        "colab": {
          "base_uri": "https://localhost:8080/"
        },
        "outputId": "f16d12f0-6d79-4f9e-a703-1940a60d1ca7"
      },
      "execution_count": null,
      "outputs": [
        {
          "output_type": "stream",
          "name": "stdout",
          "text": [
            "我好喜歡上資訊概論的助教課\n"
          ]
        }
      ]
    },
    {
      "cell_type": "code",
      "source": [
        "a=\"資訊概論\"\n",
        "print(f\"我好喜歡上{a}的助教課!\")"
      ],
      "metadata": {
        "colab": {
          "base_uri": "https://localhost:8080/"
        },
        "id": "xrrcDYyU6AZq",
        "outputId": "230bc951-621e-4734-be5c-f58745312220"
      },
      "execution_count": null,
      "outputs": [
        {
          "output_type": "stream",
          "name": "stdout",
          "text": [
            "我好喜歡上資訊概論的助教課!\n"
          ]
        }
      ]
    },
    {
      "cell_type": "code",
      "source": [
        "def example1(a, b):\n",
        "      ans = a + b\n",
        "      return f\"a + b是{ans}\"\n",
        "x = example1(1, 2)\n",
        "print(x)"
      ],
      "metadata": {
        "colab": {
          "base_uri": "https://localhost:8080/"
        },
        "id": "aZT4Mlkn6h-_",
        "outputId": "fa743585-f2e1-43e5-d972-36d9e213ac0d"
      },
      "execution_count": null,
      "outputs": [
        {
          "output_type": "stream",
          "name": "stdout",
          "text": [
            "a + b是3\n"
          ]
        }
      ]
    },
    {
      "cell_type": "code",
      "source": [
        "def example1(a, b):\n",
        "      ans = a + b\n",
        "      return ans\n",
        "x = example1(1, 2)\n",
        "print(f\"答案是{x}\")"
      ],
      "metadata": {
        "colab": {
          "base_uri": "https://localhost:8080/"
        },
        "id": "aAot1r457PYy",
        "outputId": "d48f0977-e121-4d9a-b53c-c8b885bf070b"
      },
      "execution_count": null,
      "outputs": [
        {
          "output_type": "stream",
          "name": "stdout",
          "text": [
            "答案是3\n"
          ]
        }
      ]
    },
    {
      "cell_type": "code",
      "source": [
        "def example1(a, b):\n",
        "      ans = a + b\n",
        "      return ans\n",
        "def example1_1(a, b):\n",
        "      ans = a * b\n",
        "      return ans\n",
        "x = example1(1, 2)\n",
        "print(f\"答案是{x}\")\n",
        "y = example1_1(1, 2)\n",
        "print(f\"答案是{y}\")"
      ],
      "metadata": {
        "colab": {
          "base_uri": "https://localhost:8080/"
        },
        "id": "l5WhBebj7dC8",
        "outputId": "67fe4c10-a127-4b2b-a588-81b2d885ecf0"
      },
      "execution_count": null,
      "outputs": [
        {
          "output_type": "stream",
          "name": "stdout",
          "text": [
            "答案是3\n",
            "答案是2\n"
          ]
        }
      ]
    },
    {
      "cell_type": "code",
      "source": [
        "def add(a, b):\n",
        "      ans = a + b\n",
        "      return ans\n",
        "x = add(1, 2)\n",
        "print(f\"答案是{x}\")"
      ],
      "metadata": {
        "colab": {
          "base_uri": "https://localhost:8080/"
        },
        "id": "Wiq1_J327yi-",
        "outputId": "62f3f8a1-27d8-4560-83e2-65a6390cb98e"
      },
      "execution_count": null,
      "outputs": [
        {
          "output_type": "stream",
          "name": "stdout",
          "text": [
            "答案是3\n"
          ]
        }
      ]
    },
    {
      "cell_type": "code",
      "source": [
        "def add(a, b):\n",
        "      ans = a + b\n",
        "      return ans\n",
        "\n",
        "def sub(a, b):\n",
        "      ans = a - b\n",
        "      return ans\n",
        "\n",
        "def mul(a, b):\n",
        "      ans = a * b\n",
        "      return ans      \n",
        "\n",
        "x = int(input(\"x:\"))\n",
        "y = int(input(\"y:\"))\n",
        "choose = input(\"「加、減、乘」選一個？\")\n",
        "if choose == \"加\":\n",
        "    ans = add(x, y)\n",
        "elif choose == \"減\":\n",
        "    ans = sub(x, y)\n",
        "else:\n",
        "    ans = mul(x, y)\n",
        "    \n",
        "print(f\"{x}{choose}{y}={ans}\")"
      ],
      "metadata": {
        "colab": {
          "base_uri": "https://localhost:8080/"
        },
        "id": "C94Q8qxs9HmT",
        "outputId": "e6fe29b6-98bb-4d3e-9930-103a1fe37c8c"
      },
      "execution_count": null,
      "outputs": [
        {
          "output_type": "stream",
          "name": "stdout",
          "text": [
            "x:3\n",
            "y:7\n",
            "「加、減、乘」選一個？乘\n",
            "3乘7=21\n"
          ]
        }
      ]
    },
    {
      "cell_type": "code",
      "source": [
        "expense = {\n",
        "    \"a\": [20, 30, 55, 20],\n",
        "    \"b\": [23, 35, 40, 28],\n",
        "    \"c\": [33, 40, 50, 25]\n",
        "}\n",
        "revenue = {\n",
        "    \"a\": [35, 22, 45, 30],\n",
        "    \"b\": [44, 65, 60, 58],\n",
        "    \"c\": [27, 46, 37, 38]\n",
        "}\n",
        "add_expense=0\n",
        "for i in expense[\"b\"]:\n",
        "    add_expense+=i\n",
        "print(add_expense)\n",
        "\n",
        "add_revenue=0\n",
        "for i in revenue[\"b\"]:\n",
        "    add_revenue+=i\n",
        "print(add_revenue)\n",
        "\n",
        "ans=add_revenue-add_expense\n",
        "\n",
        "if ans > 0:\n",
        "    print(\"賺錢\")\n",
        "elif ans < 0:\n",
        "    print(\"虧錢\")"
      ],
      "metadata": {
        "id": "45mTMLa1n6qe",
        "colab": {
          "base_uri": "https://localhost:8080/"
        },
        "outputId": "64860053-4a91-4403-afb9-d86e1ce19a70"
      },
      "execution_count": 1,
      "outputs": [
        {
          "output_type": "stream",
          "name": "stdout",
          "text": [
            "126\n",
            "227\n",
            "賺錢\n"
          ]
        }
      ]
    }
  ]
}