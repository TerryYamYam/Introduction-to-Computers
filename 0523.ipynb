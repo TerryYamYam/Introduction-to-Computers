{
  "nbformat": 4,
  "nbformat_minor": 0,
  "metadata": {
    "colab": {
      "name": "0523.ipynb",
      "provenance": [],
      "authorship_tag": "ABX9TyOvluqQZ9s7HORZdPUTQBcj",
      "include_colab_link": true
    },
    "kernelspec": {
      "name": "python3",
      "display_name": "Python 3"
    },
    "language_info": {
      "name": "python"
    }
  },
  "cells": [
    {
      "cell_type": "markdown",
      "metadata": {
        "id": "view-in-github",
        "colab_type": "text"
      },
      "source": [
        "<a href=\"https://colab.research.google.com/github/TerryYamYam/Introduction-to-Computers/blob/main/0523.ipynb\" target=\"_parent\"><img src=\"https://colab.research.google.com/assets/colab-badge.svg\" alt=\"Open In Colab\"/></a>"
      ]
    },
    {
      "cell_type": "code",
      "execution_count": 1,
      "metadata": {
        "colab": {
          "base_uri": "https://localhost:8080/"
        },
        "id": "dbQDZrZH5WkU",
        "outputId": "68caf4bc-403d-4d1f-f620-54f81c7204a1"
      },
      "outputs": [
        {
          "output_type": "stream",
          "name": "stdout",
          "text": [
            "0523\n"
          ]
        }
      ],
      "source": [
        "print(\"0523\")"
      ]
    },
    {
      "cell_type": "code",
      "source": [
        "sum = 0\n",
        "test = int(input(\"請輸入一個正整數:\"))\n",
        "for n in range (1, test+1):\n",
        "    sum = sum+n\n",
        "print(\"1到\",test,\"的整數和為：\",sum)"
      ],
      "metadata": {
        "colab": {
          "base_uri": "https://localhost:8080/"
        },
        "id": "T5YXFX7G5sf3",
        "outputId": "fb6162b3-1ef1-4774-f612-29cd9cd455d2"
      },
      "execution_count": 2,
      "outputs": [
        {
          "output_type": "stream",
          "name": "stdout",
          "text": [
            "請輸入一個正整數:50\n",
            "1到 50 的整數和為： 1275\n"
          ]
        }
      ]
    },
    {
      "cell_type": "code",
      "source": [
        "sum = 0\n",
        "test = int(input(\"請輸入一個正整數:\"))\n",
        "for n in range (1, test+1):\n",
        "    sum = sum+n\n",
        "print(\"1到\",test,\"的整數和為：\",sum)"
      ],
      "metadata": {
        "colab": {
          "base_uri": "https://localhost:8080/"
        },
        "id": "bbBmDIKY6nxK",
        "outputId": "64e60304-3eed-475a-c07f-9dcb54925891"
      },
      "execution_count": 3,
      "outputs": [
        {
          "output_type": "stream",
          "name": "stdout",
          "text": [
            "請輸入一個正整數:10\n",
            "1到 10 的整數和為： 55\n"
          ]
        }
      ]
    },
    {
      "cell_type": "code",
      "source": [
        "sum = 0\n",
        "test = int(input(\"請輸入一個正整數:\"))\n",
        "for m in range (1, test+1):\n",
        "    sum = sum+m\n",
        "    print(\"1到\",str(m),\"的整數和為：\",sum)"
      ],
      "metadata": {
        "colab": {
          "base_uri": "https://localhost:8080/"
        },
        "id": "TdwA3fgB6yIk",
        "outputId": "b81e3631-8237-4b96-c7fa-8f59104def7c"
      },
      "execution_count": 5,
      "outputs": [
        {
          "output_type": "stream",
          "name": "stdout",
          "text": [
            "請輸入一個正整數:50\n",
            "1到 1 的整數和為： 1\n",
            "1到 2 的整數和為： 3\n",
            "1到 3 的整數和為： 6\n",
            "1到 4 的整數和為： 10\n",
            "1到 5 的整數和為： 15\n",
            "1到 6 的整數和為： 21\n",
            "1到 7 的整數和為： 28\n",
            "1到 8 的整數和為： 36\n",
            "1到 9 的整數和為： 45\n",
            "1到 10 的整數和為： 55\n",
            "1到 11 的整數和為： 66\n",
            "1到 12 的整數和為： 78\n",
            "1到 13 的整數和為： 91\n",
            "1到 14 的整數和為： 105\n",
            "1到 15 的整數和為： 120\n",
            "1到 16 的整數和為： 136\n",
            "1到 17 的整數和為： 153\n",
            "1到 18 的整數和為： 171\n",
            "1到 19 的整數和為： 190\n",
            "1到 20 的整數和為： 210\n",
            "1到 21 的整數和為： 231\n",
            "1到 22 的整數和為： 253\n",
            "1到 23 的整數和為： 276\n",
            "1到 24 的整數和為： 300\n",
            "1到 25 的整數和為： 325\n",
            "1到 26 的整數和為： 351\n",
            "1到 27 的整數和為： 378\n",
            "1到 28 的整數和為： 406\n",
            "1到 29 的整數和為： 435\n",
            "1到 30 的整數和為： 465\n",
            "1到 31 的整數和為： 496\n",
            "1到 32 的整數和為： 528\n",
            "1到 33 的整數和為： 561\n",
            "1到 34 的整數和為： 595\n",
            "1到 35 的整數和為： 630\n",
            "1到 36 的整數和為： 666\n",
            "1到 37 的整數和為： 703\n",
            "1到 38 的整數和為： 741\n",
            "1到 39 的整數和為： 780\n",
            "1到 40 的整數和為： 820\n",
            "1到 41 的整數和為： 861\n",
            "1到 42 的整數和為： 903\n",
            "1到 43 的整數和為： 946\n",
            "1到 44 的整數和為： 990\n",
            "1到 45 的整數和為： 1035\n",
            "1到 46 的整數和為： 1081\n",
            "1到 47 的整數和為： 1128\n",
            "1到 48 的整數和為： 1176\n",
            "1到 49 的整數和為： 1225\n",
            "1到 50 的整數和為： 1275\n"
          ]
        }
      ]
    },
    {
      "cell_type": "code",
      "source": [
        "for j in range (1,5):\n",
        "    print(j)\n",
        "    for i in range(1,3):\n",
        "        k = i*j\n",
        "        print(j,\"*\",i,\"=\",k)"
      ],
      "metadata": {
        "colab": {
          "base_uri": "https://localhost:8080/"
        },
        "id": "mBGeIoka7A3q",
        "outputId": "5797d3df-6854-42c9-e1e9-4bb04adbff11"
      },
      "execution_count": 6,
      "outputs": [
        {
          "output_type": "stream",
          "name": "stdout",
          "text": [
            "1\n",
            "1 * 1 = 1\n",
            "1 * 2 = 2\n",
            "2\n",
            "2 * 1 = 2\n",
            "2 * 2 = 4\n",
            "3\n",
            "3 * 1 = 3\n",
            "3 * 2 = 6\n",
            "4\n",
            "4 * 1 = 4\n",
            "4 * 2 = 8\n"
          ]
        }
      ]
    },
    {
      "cell_type": "code",
      "source": [
        "for j in range (1,6):\n",
        "    print(j)\n",
        "    for i in range(1,3):\n",
        "        k = i*j\n",
        "        print(j,\"*\",i,\"=\",k)"
      ],
      "metadata": {
        "colab": {
          "base_uri": "https://localhost:8080/"
        },
        "id": "1-VJ6Ok-8PVd",
        "outputId": "16dadb3d-d4bf-4b44-f4de-6ee546a8b213"
      },
      "execution_count": 7,
      "outputs": [
        {
          "output_type": "stream",
          "name": "stdout",
          "text": [
            "1\n",
            "1 * 1 = 1\n",
            "1 * 2 = 2\n",
            "2\n",
            "2 * 1 = 2\n",
            "2 * 2 = 4\n",
            "3\n",
            "3 * 1 = 3\n",
            "3 * 2 = 6\n",
            "4\n",
            "4 * 1 = 4\n",
            "4 * 2 = 8\n",
            "5\n",
            "5 * 1 = 5\n",
            "5 * 2 = 10\n"
          ]
        }
      ]
    },
    {
      "cell_type": "code",
      "source": [
        "for j in range(2, 10):\n",
        "    for i in range(1, 10):\n",
        "        k = i*j\n",
        "        print(j,\"*\",i,\"=\",k, end=\"\\t\")\n",
        "    print()"
      ],
      "metadata": {
        "colab": {
          "base_uri": "https://localhost:8080/"
        },
        "id": "2jTMKi3-9Cy5",
        "outputId": "8cd17441-3f62-4d66-f21d-185033cfecfd"
      },
      "execution_count": 16,
      "outputs": [
        {
          "output_type": "stream",
          "name": "stdout",
          "text": [
            "2 * 1 = 2\t2 * 2 = 4\t2 * 3 = 6\t2 * 4 = 8\t2 * 5 = 10\t2 * 6 = 12\t2 * 7 = 14\t2 * 8 = 16\t2 * 9 = 18\t\n",
            "3 * 1 = 3\t3 * 2 = 6\t3 * 3 = 9\t3 * 4 = 12\t3 * 5 = 15\t3 * 6 = 18\t3 * 7 = 21\t3 * 8 = 24\t3 * 9 = 27\t\n",
            "4 * 1 = 4\t4 * 2 = 8\t4 * 3 = 12\t4 * 4 = 16\t4 * 5 = 20\t4 * 6 = 24\t4 * 7 = 28\t4 * 8 = 32\t4 * 9 = 36\t\n",
            "5 * 1 = 5\t5 * 2 = 10\t5 * 3 = 15\t5 * 4 = 20\t5 * 5 = 25\t5 * 6 = 30\t5 * 7 = 35\t5 * 8 = 40\t5 * 9 = 45\t\n",
            "6 * 1 = 6\t6 * 2 = 12\t6 * 3 = 18\t6 * 4 = 24\t6 * 5 = 30\t6 * 6 = 36\t6 * 7 = 42\t6 * 8 = 48\t6 * 9 = 54\t\n",
            "7 * 1 = 7\t7 * 2 = 14\t7 * 3 = 21\t7 * 4 = 28\t7 * 5 = 35\t7 * 6 = 42\t7 * 7 = 49\t7 * 8 = 56\t7 * 9 = 63\t\n",
            "8 * 1 = 8\t8 * 2 = 16\t8 * 3 = 24\t8 * 4 = 32\t8 * 5 = 40\t8 * 6 = 48\t8 * 7 = 56\t8 * 8 = 64\t8 * 9 = 72\t\n",
            "9 * 1 = 9\t9 * 2 = 18\t9 * 3 = 27\t9 * 4 = 36\t9 * 5 = 45\t9 * 6 = 54\t9 * 7 = 63\t9 * 8 = 72\t9 * 9 = 81\t\n"
          ]
        }
      ]
    },
    {
      "cell_type": "code",
      "source": [
        "for i in range(1,5):\n",
        "    if (i==4):\n",
        "        break\n",
        "    print(i,end=\" \")"
      ],
      "metadata": {
        "colab": {
          "base_uri": "https://localhost:8080/"
        },
        "id": "P7vn8d3S9HNN",
        "outputId": "2d9bfc77-b820-4914-a29c-2efa7ea1c6ce"
      },
      "execution_count": 18,
      "outputs": [
        {
          "output_type": "stream",
          "name": "stdout",
          "text": [
            "1 2 3 "
          ]
        }
      ]
    },
    {
      "cell_type": "code",
      "source": [
        "conunt = 0\n",
        "for string in \"測試看看！\":\n",
        "    conunt+=1\n",
        "    if string == \"看\":\n",
        "        break\n",
        "    print(string)\n",
        "print(\"迴圈結束\")\n",
        "print(\"迴圈執行了 %d 次\" %conunt)"
      ],
      "metadata": {
        "colab": {
          "base_uri": "https://localhost:8080/"
        },
        "id": "XzzqBoWQ_Ind",
        "outputId": "0a8c438c-c393-42d6-9dbb-f5b9955c9654"
      },
      "execution_count": 21,
      "outputs": [
        {
          "output_type": "stream",
          "name": "stdout",
          "text": [
            "測\n",
            "試\n",
            "迴圈結束\n",
            "迴圈執行了 3 次\n"
          ]
        }
      ]
    },
    {
      "cell_type": "code",
      "source": [
        "conunt = 0\n",
        "for string in \"Tryitnow\":\n",
        "    conunt+=1\n",
        "    if string == \"n\":\n",
        "        break\n",
        "    print(string)\n",
        "print(\"end\")\n",
        "print(\"it executed %d times\" %conunt)"
      ],
      "metadata": {
        "colab": {
          "base_uri": "https://localhost:8080/"
        },
        "id": "RsMhiJ96AMQa",
        "outputId": "1e729083-a2b9-4819-d757-9192392014bf"
      },
      "execution_count": 25,
      "outputs": [
        {
          "output_type": "stream",
          "name": "stdout",
          "text": [
            "T\n",
            "r\n",
            "y\n",
            "i\n",
            "t\n",
            "end\n",
            "it executed 6 times\n"
          ]
        }
      ]
    },
    {
      "cell_type": "code",
      "source": [
        "a = int(input(\"請輸入a得值:\"))\n",
        "b = int(input(\"請輸入b得值:\"))\n",
        "if a > b :\n",
        "    c = a\n",
        "else:\n",
        "    c = b\n",
        "k = (a + 1) * (b + 1)\n",
        "for n in range(c, k):\n",
        "    if n % a == 0 and n % b == 0:\n",
        "        print(n)\n",
        "        break"
      ],
      "metadata": {
        "colab": {
          "base_uri": "https://localhost:8080/"
        },
        "id": "hzu2QVhOCAwC",
        "outputId": "15ba5eb3-cf86-4e16-a72c-c971970dbfc2"
      },
      "execution_count": 28,
      "outputs": [
        {
          "output_type": "stream",
          "name": "stdout",
          "text": [
            "請輸入a得值:4\n",
            "請輸入b得值:6\n",
            "12\n"
          ]
        }
      ]
    },
    {
      "cell_type": "code",
      "source": [
        "a = int(input(\"請輸入a得值:\"))\n",
        "b = int(input(\"請輸入b得值:\"))\n",
        "if a > b :\n",
        "    c = a\n",
        "else:\n",
        "    c = b\n",
        "k = (a + 1) * (b + 1)\n",
        "for n in range(c, k):\n",
        "    if n % a == 0 and n % b == 0:\n",
        "        print(n)\n",
        "        break"
      ],
      "metadata": {
        "colab": {
          "base_uri": "https://localhost:8080/"
        },
        "id": "JHiWnIFeDdin",
        "outputId": "8c1ce727-65cc-4922-e269-4e8f65bc33f0"
      },
      "execution_count": 29,
      "outputs": [
        {
          "output_type": "stream",
          "name": "stdout",
          "text": [
            "請輸入a得值:9\n",
            "請輸入b得值:15\n",
            "45\n"
          ]
        }
      ]
    },
    {
      "cell_type": "code",
      "source": [
        "i = int(input(\"請輸入正整數:\"))\n",
        "for j in range(1,i+1):\n",
        "    if j % 5 == 0:\n",
        "      continue\n",
        "    print(j,end=\" \")"
      ],
      "metadata": {
        "colab": {
          "base_uri": "https://localhost:8080/"
        },
        "id": "2rWmMhL1Dgdn",
        "outputId": "acb73cc2-fc1c-40b0-94ae-0ce3d155f045"
      },
      "execution_count": 32,
      "outputs": [
        {
          "output_type": "stream",
          "name": "stdout",
          "text": [
            "請輸入正整數:12\n",
            "1 2 3 4 6 7 8 9 11 12 "
          ]
        }
      ]
    },
    {
      "cell_type": "code",
      "source": [
        "i = int(input(\"請輸入正整數:\"))\n",
        "for j in range(1,i+1):\n",
        "    if j % 5 == 0:\n",
        "      continue\n",
        "    print(j,end=\" \")"
      ],
      "metadata": {
        "colab": {
          "base_uri": "https://localhost:8080/"
        },
        "id": "BWF4g-SbEU7w",
        "outputId": "850a2536-92a4-4d2a-c894-9691de6fc0fb"
      },
      "execution_count": 45,
      "outputs": [
        {
          "output_type": "stream",
          "name": "stdout",
          "text": [
            "請輸入正整數:21\n",
            "1 2 3 4 6 7 8 9 11 12 13 14 16 17 18 19 21 "
          ]
        }
      ]
    }
  ]
}