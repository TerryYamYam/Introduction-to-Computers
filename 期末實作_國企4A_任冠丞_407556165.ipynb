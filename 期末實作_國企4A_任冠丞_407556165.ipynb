{
  "nbformat": 4,
  "nbformat_minor": 0,
  "metadata": {
    "colab": {
      "name": "期末實作_國企4A_任冠丞_407556165.ipynb",
      "provenance": [],
      "authorship_tag": "ABX9TyMdG5bsJkdx++6BD+RimjSC",
      "include_colab_link": true
    },
    "kernelspec": {
      "name": "python3",
      "display_name": "Python 3"
    },
    "language_info": {
      "name": "python"
    }
  },
  "cells": [
    {
      "cell_type": "markdown",
      "metadata": {
        "id": "view-in-github",
        "colab_type": "text"
      },
      "source": [
        "<a href=\"https://colab.research.google.com/github/TerryYamYam/Introduction-to-Computers/blob/main/%E6%9C%9F%E6%9C%AB%E5%AF%A6%E4%BD%9C_%E5%9C%8B%E4%BC%814A_%E4%BB%BB%E5%86%A0%E4%B8%9E_407556165.ipynb\" target=\"_parent\"><img src=\"https://colab.research.google.com/assets/colab-badge.svg\" alt=\"Open In Colab\"/></a>"
      ]
    },
    {
      "cell_type": "code",
      "execution_count": 7,
      "metadata": {
        "id": "mEZaioJ4HyC2",
        "colab": {
          "base_uri": "https://localhost:8080/"
        },
        "outputId": "8cbb4041-391d-4f70-c5af-7adb2995288b"
      },
      "outputs": [
        {
          "output_type": "stream",
          "name": "stdout",
          "text": [
            "['國企4A', 407556165, '任冠丞']\n"
          ]
        }
      ],
      "source": [
        "list1 = [\"國企4A\", 407556165, \"任冠丞\"]\n",
        "print(list1)"
      ]
    },
    {
      "cell_type": "code",
      "source": [
        "print(\"班級:\",list1[0])\n",
        "print(\"學號:\",list1[1])\n",
        "print(\"姓名:\",list1[2])"
      ],
      "metadata": {
        "colab": {
          "base_uri": "https://localhost:8080/"
        },
        "id": "ysmWb8VhPKFR",
        "outputId": "46acd362-6223-41aa-d6a4-ec47619ccef7"
      },
      "execution_count": 6,
      "outputs": [
        {
          "output_type": "stream",
          "name": "stdout",
          "text": [
            "班級: 國企4A\n",
            "學號: 407556165\n",
            "姓名: 任冠丞\n"
          ]
        }
      ]
    },
    {
      "cell_type": "code",
      "source": [
        "month = int(input('請輸入月份:'))\n",
        "date = int(input('請輸入日期:'))\n",
        "week = input('請輸入今天是星期幾:')\n",
        "print('今天是:', month , '月,' , date , '號,' , '星期' , week)"
      ],
      "metadata": {
        "colab": {
          "base_uri": "https://localhost:8080/"
        },
        "id": "s6ejbgo_QzOL",
        "outputId": "90d66322-dd91-41e3-c56a-4ba36c57dcf0"
      },
      "execution_count": 50,
      "outputs": [
        {
          "output_type": "stream",
          "name": "stdout",
          "text": [
            "請輸入月份:1\n",
            "請輸入日期:1\n",
            "請輸入今天是星期幾:二\n",
            "今天是: 1 月, 1 號, 星期 二\n"
          ]
        }
      ]
    },
    {
      "cell_type": "code",
      "source": [
        "money = int(input(\"請輸入購物金額:\"))\n",
        "if (money > 10000):\n",
        "    if (money > 10000):\n",
        "        print(\"你購買的總金額為:\",money,\"元\")\n",
        "        print(\"您享有八折的折扣! 折扣後的價格為:\",money * 0.8,end = \"元\\n\")\n",
        "    elif (money > 5000):\n",
        "        print(\"你購買的總金額為:\",money,\"元\")\n",
        "        prinnt(\"您享有八五折的折扣! 折扣後的價格為:\",money * 0.85,end = \"元\\n\")\n",
        "    elif (money > 3000):\n",
        "        print(\"你購買的總金額為:\",money,\"元\")\n",
        "        print(\"您享有九折的折扣! 折扣後的價格為:\",money * 0.9,end = \"元\\n\")\n",
        "    elif (money > 1000):\n",
        "        print(\"你購買的總金額為:\",money,\"元\")\n",
        "        print(\"您享有九五折的折扣! 折扣後的價格為:\",money * 0.95,end = \"元\\n\")\n",
        "else:\n",
        "    print(\"你購買的總金額為:\",money,\"元\")\n",
        "    print(money,\"元沒達到最低折扣金額! 您需要付款的金額為:\",money,end = \"元\\n\")"
      ],
      "metadata": {
        "colab": {
          "base_uri": "https://localhost:8080/"
        },
        "id": "7l3_m0XcSwNS",
        "outputId": "8ad16cc9-7efa-4541-cda8-402a541adc32"
      },
      "execution_count": 37,
      "outputs": [
        {
          "output_type": "stream",
          "name": "stdout",
          "text": [
            "請輸入購物金額:12000\n",
            "你購買的總金額為: 12000 元\n",
            "您享有八折的折扣! 折扣後的價格為: 9600.0元\n"
          ]
        }
      ]
    },
    {
      "cell_type": "code",
      "source": [
        "money = int(input(\"請輸入購物金額:\"))\n",
        "if (money > 10000):\n",
        "    if (money > 10000):\n",
        "        print(\"你購買的總金額為:\",money,\"元\")\n",
        "        print(\"您享有八折的折扣! 折扣後的價格為:\",money * 0.8,end = \"元\\n\")\n",
        "    elif (money > 5000):\n",
        "        print(\"你購買的總金額為:\",money,\"元\")\n",
        "        prinnt(\"您享有八五折的折扣! 折扣後的價格為:\",money * 0.85,end = \"元\\n\")\n",
        "    elif (money > 3000):\n",
        "        print(\"你購買的總金額為:\",money,\"元\")\n",
        "        print(\"您享有九折的折扣! 折扣後的價格為:\",money * 0.9,end = \"元\\n\")\n",
        "    elif (money > 1000):\n",
        "        print(\"你購買的總金額為:\",money,\"元\")\n",
        "        print(\"您享有九五折的折扣! 折扣後的價格為:\",money * 0.95,end = \"元\\n\")\n",
        "else:\n",
        "    print(\"你購買的總金額為:\",money,\"元\")\n",
        "    print(money,\"元沒達到最低折扣金額! 您需要付款的金額為:\",money,end = \"元\\n\")"
      ],
      "metadata": {
        "colab": {
          "base_uri": "https://localhost:8080/"
        },
        "id": "1Lt10MnaYOxt",
        "outputId": "64107216-e87d-4dae-a6f1-3e18f2c682bb"
      },
      "execution_count": 38,
      "outputs": [
        {
          "output_type": "stream",
          "name": "stdout",
          "text": [
            "請輸入購物金額:500\n",
            "你購買的總金額為: 500 元\n",
            "500 元沒達到最低折扣金額! 您需要付款的金額為: 500元\n"
          ]
        }
      ]
    },
    {
      "cell_type": "code",
      "source": [
        "sum = 0\n",
        "test = int(input(\"請輸入一個正整數:\"))\n",
        "for n in range (1, test+1, 1):\n",
        "    sum = sum +n\n",
        "    print(\"1到\",n,\"的整數和為:\",sum)"
      ],
      "metadata": {
        "colab": {
          "base_uri": "https://localhost:8080/"
        },
        "id": "tql1RG12ZrWc",
        "outputId": "a3020a8d-1d94-4b66-f68b-46f6d20fafb7"
      },
      "execution_count": 39,
      "outputs": [
        {
          "output_type": "stream",
          "name": "stdout",
          "text": [
            "請輸入一個正整數:10\n",
            "1到 1 的整數和為: 1\n",
            "1到 2 的整數和為: 3\n",
            "1到 3 的整數和為: 6\n",
            "1到 4 的整數和為: 10\n",
            "1到 5 的整數和為: 15\n",
            "1到 6 的整數和為: 21\n",
            "1到 7 的整數和為: 28\n",
            "1到 8 的整數和為: 36\n",
            "1到 9 的整數和為: 45\n",
            "1到 10 的整數和為: 55\n"
          ]
        }
      ]
    },
    {
      "cell_type": "code",
      "source": [
        "for j in range(2,10):\n",
        "    for i in range(1,10):\n",
        "        k = i * j\n",
        "        print(j,\"*\",i,\"=\",k, end=\"\\t\")\n",
        "    print()"
      ],
      "metadata": {
        "colab": {
          "base_uri": "https://localhost:8080/"
        },
        "id": "dlAYpD-RbWOg",
        "outputId": "c87ca8ee-7be2-47f9-c8e6-e8d0ef6ddb71"
      },
      "execution_count": 40,
      "outputs": [
        {
          "output_type": "stream",
          "name": "stdout",
          "text": [
            "2 * 1 = 2\t2 * 2 = 4\t2 * 3 = 6\t2 * 4 = 8\t2 * 5 = 10\t2 * 6 = 12\t2 * 7 = 14\t2 * 8 = 16\t2 * 9 = 18\t\n",
            "3 * 1 = 3\t3 * 2 = 6\t3 * 3 = 9\t3 * 4 = 12\t3 * 5 = 15\t3 * 6 = 18\t3 * 7 = 21\t3 * 8 = 24\t3 * 9 = 27\t\n",
            "4 * 1 = 4\t4 * 2 = 8\t4 * 3 = 12\t4 * 4 = 16\t4 * 5 = 20\t4 * 6 = 24\t4 * 7 = 28\t4 * 8 = 32\t4 * 9 = 36\t\n",
            "5 * 1 = 5\t5 * 2 = 10\t5 * 3 = 15\t5 * 4 = 20\t5 * 5 = 25\t5 * 6 = 30\t5 * 7 = 35\t5 * 8 = 40\t5 * 9 = 45\t\n",
            "6 * 1 = 6\t6 * 2 = 12\t6 * 3 = 18\t6 * 4 = 24\t6 * 5 = 30\t6 * 6 = 36\t6 * 7 = 42\t6 * 8 = 48\t6 * 9 = 54\t\n",
            "7 * 1 = 7\t7 * 2 = 14\t7 * 3 = 21\t7 * 4 = 28\t7 * 5 = 35\t7 * 6 = 42\t7 * 7 = 49\t7 * 8 = 56\t7 * 9 = 63\t\n",
            "8 * 1 = 8\t8 * 2 = 16\t8 * 3 = 24\t8 * 4 = 32\t8 * 5 = 40\t8 * 6 = 48\t8 * 7 = 56\t8 * 8 = 64\t8 * 9 = 72\t\n",
            "9 * 1 = 9\t9 * 2 = 18\t9 * 3 = 27\t9 * 4 = 36\t9 * 5 = 45\t9 * 6 = 54\t9 * 7 = 63\t9 * 8 = 72\t9 * 9 = 81\t\n"
          ]
        }
      ]
    },
    {
      "cell_type": "code",
      "source": [
        "sum = 0\n",
        "for i in range(1,101):\n",
        "    if i % 9 == 0 or i % 13 ==0:\n",
        "      print(i)"
      ],
      "metadata": {
        "colab": {
          "base_uri": "https://localhost:8080/"
        },
        "id": "nn_RqYh5cBQ_",
        "outputId": "76911ca5-2439-489c-e4cf-1c3f1ec828e6"
      },
      "execution_count": 42,
      "outputs": [
        {
          "output_type": "stream",
          "name": "stdout",
          "text": [
            "9\n",
            "13\n",
            "18\n",
            "26\n",
            "27\n",
            "36\n",
            "39\n",
            "45\n",
            "52\n",
            "54\n",
            "63\n",
            "65\n",
            "72\n",
            "78\n",
            "81\n",
            "90\n",
            "91\n",
            "99\n"
          ]
        }
      ]
    },
    {
      "cell_type": "code",
      "source": [
        "sum = 0\n",
        "for i in range(1,101):\n",
        "    if i % 9 == 0 or i % 13 ==0:\n",
        "        sum += i\n",
        "print(sum)"
      ],
      "metadata": {
        "colab": {
          "base_uri": "https://localhost:8080/"
        },
        "id": "nLpwwUomcxPf",
        "outputId": "d0e73653-bb1e-49aa-99ea-8f2e0bc81fdb"
      },
      "execution_count": 43,
      "outputs": [
        {
          "output_type": "stream",
          "name": "stdout",
          "text": [
            "958\n"
          ]
        }
      ]
    },
    {
      "cell_type": "code",
      "source": [
        "students = [\"Tom\",\"Mary\",\"Tony\"]\n",
        "id = [1,2,3]\n",
        "scores = [85,79,93]\n",
        "for i in range(len(id)):\n",
        "    print(\"編號:%s 姓名:%s 成績:%s\"%(id[i],students[i],scores[i]))"
      ],
      "metadata": {
        "colab": {
          "base_uri": "https://localhost:8080/"
        },
        "id": "bjLZ2FcOdbn4",
        "outputId": "a7eb5715-851c-46aa-d227-70110976164c"
      },
      "execution_count": 44,
      "outputs": [
        {
          "output_type": "stream",
          "name": "stdout",
          "text": [
            "編號:1 姓名:Tom 成績:85\n",
            "編號:2 姓名:Mary 成績:79\n",
            "編號:3 姓名:Tony 成績:93\n"
          ]
        }
      ]
    },
    {
      "cell_type": "markdown",
      "source": [
        "老師雖然都不會直接回答作業相關問題，不過都給出方向性的意見，讓我更能做出答案，非常感謝老師一個學期的教導！"
      ],
      "metadata": {
        "id": "vBh7lEdAeliS"
      }
    }
  ]
}