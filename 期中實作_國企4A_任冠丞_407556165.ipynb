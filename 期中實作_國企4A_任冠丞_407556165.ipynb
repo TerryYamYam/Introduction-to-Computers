{
  "nbformat": 4,
  "nbformat_minor": 0,
  "metadata": {
    "colab": {
      "name": "期中實作_國企4A_任冠丞_407556165.ipynb",
      "provenance": [],
      "collapsed_sections": [],
      "authorship_tag": "ABX9TyOVJ9/gcB5+h1Nf2TGlLrEW",
      "include_colab_link": true
    },
    "kernelspec": {
      "name": "python3",
      "display_name": "Python 3"
    },
    "language_info": {
      "name": "python"
    }
  },
  "cells": [
    {
      "cell_type": "markdown",
      "metadata": {
        "id": "view-in-github",
        "colab_type": "text"
      },
      "source": [
        "<a href=\"https://colab.research.google.com/github/TerryYamYam/Introduction-to-Computers/blob/main/%E6%9C%9F%E4%B8%AD%E5%AF%A6%E4%BD%9C_%E5%9C%8B%E4%BC%814A_%E4%BB%BB%E5%86%A0%E4%B8%9E_407556165.ipynb\" target=\"_parent\"><img src=\"https://colab.research.google.com/assets/colab-badge.svg\" alt=\"Open In Colab\"/></a>"
      ]
    },
    {
      "cell_type": "code",
      "execution_count": null,
      "metadata": {
        "colab": {
          "base_uri": "https://localhost:8080/"
        },
        "id": "mGQhOcQM3LXo",
        "outputId": "9eddd559-2b44-4953-d278-ffa0684fb171"
      },
      "outputs": [
        {
          "output_type": "stream",
          "name": "stdout",
          "text": [
            "班級：國企4A\n",
            "姓名：任冠丞\n",
            "學號：407556165\n"
          ]
        }
      ],
      "source": [
        "print(\"班級：國企4A\\n姓名：任冠丞\\n學號：407556165\")"
      ]
    },
    {
      "cell_type": "code",
      "source": [
        "test1 = int(input('請輸入月份:'))\n",
        "test2 = int(input('請輸入日期:'))\n",
        "test3 = input('請輸入今天是星期幾:')\n",
        "print('今天是：',test1,'月,',test2,'號,','星期',test3,sep = '')"
      ],
      "metadata": {
        "colab": {
          "base_uri": "https://localhost:8080/"
        },
        "id": "Q7VHcTXb4ix0",
        "outputId": "fcd9b53c-5263-42dc-858a-ac0ddee2a034"
      },
      "execution_count": null,
      "outputs": [
        {
          "output_type": "stream",
          "name": "stdout",
          "text": [
            "請輸入月份:1\n",
            "請輸入日期:1\n",
            "請輸入今天是星期幾:二\n",
            "今天是：1月,1號,星期二\n"
          ]
        }
      ]
    },
    {
      "cell_type": "code",
      "source": [
        "上底 = int(input('請輸入梯形上底長度：'))\n",
        "下底 = int(input('請輸入梯形下底長度：'))\n",
        "高 = int(input('請輸入梯形的高度：'))\n",
        "面積 = (上底+下底)*高 / 2\n",
        "print('梯形上底長度為：%d公分, 梯形下底長度為：%d公分, 梯形高度為：%d公分, 梯形面積為：%0.2f平方公分' %(上底,下底,高,面積))"
      ],
      "metadata": {
        "colab": {
          "base_uri": "https://localhost:8080/"
        },
        "id": "iXeXkHJi7Pi2",
        "outputId": "1fbdcdff-e384-47f8-9058-1336f2bcf2e9"
      },
      "execution_count": null,
      "outputs": [
        {
          "output_type": "stream",
          "name": "stdout",
          "text": [
            "請輸入梯形上底長度：4\n",
            "請輸入梯形下底長度：5\n",
            "請輸入梯形的高度：4\n",
            "梯形上底長度為：4公分, 梯形下底長度為：5公分, 梯形高度為：4公分, 梯形面積為：18.00平方公分\n"
          ]
        }
      ]
    },
    {
      "cell_type": "code",
      "source": [
        "身高 = int(input('請輸入您的身高(cm)：'))\n",
        "體重 = int(input('請輸入您的體重(kg)：'))\n",
        "BMI = 體重/((身高/100)**2)\n",
        "print('身高%d公分, 體重%d公斤, BMI值為%0.3f' %(身高,體重,BMI))"
      ],
      "metadata": {
        "colab": {
          "base_uri": "https://localhost:8080/"
        },
        "id": "go5z6rnG9He5",
        "outputId": "a47ef854-27b7-4f8d-f8f1-4ce292877fa4"
      },
      "execution_count": null,
      "outputs": [
        {
          "output_type": "stream",
          "name": "stdout",
          "text": [
            "請輸入您的身高(cm)：180\n",
            "請輸入您的體重(kg)：60\n",
            "身高180公分, 體重60公斤, BMI值為18.519\n"
          ]
        }
      ]
    },
    {
      "cell_type": "code",
      "source": [
        "num = int(input(\"請輸入正整數:\"))\n",
        "if (num % 2) == 0:\n",
        "   print('{0} 為偶數!'.format(num))\n",
        "else:\n",
        "   print('{0} 為奇數!'.format(num))\n",
        "num = int(input(\"請輸入正整數:\"))\n",
        "if (num % 2) == 0:\n",
        "   print('{0} 為偶數!'.format(num))\n",
        "else:\n",
        "   print('{0} 為奇數!'.format(num))"
      ],
      "metadata": {
        "colab": {
          "base_uri": "https://localhost:8080/"
        },
        "id": "XKEnMaCZ9hjT",
        "outputId": "de613d55-ee37-401b-f83e-ea3ed2e8f99b"
      },
      "execution_count": null,
      "outputs": [
        {
          "output_type": "stream",
          "name": "stdout",
          "text": [
            "請輸入正整數:50\n",
            "50 為偶數!\n",
            "請輸入正整數:51\n",
            "51 為奇數!\n"
          ]
        }
      ]
    },
    {
      "cell_type": "code",
      "source": [
        "體溫 = float(input(\"請輸入你的體溫\"))\n",
        "if 體溫 > 37.5 or 體溫 < 36:\n",
        "    print(\"體溫異常,請重新量測!\")\n",
        "else:\n",
        "  print(\"體溫正常,請進校園!\")"
      ],
      "metadata": {
        "colab": {
          "base_uri": "https://localhost:8080/"
        },
        "id": "e2meijZ6979H",
        "outputId": "93e3a4a7-a13e-4f19-b5f3-67d996507da8"
      },
      "execution_count": 63,
      "outputs": [
        {
          "output_type": "stream",
          "name": "stdout",
          "text": [
            "請輸入你的體溫34\n",
            "體溫異常,請重新量測!\n"
          ]
        }
      ]
    },
    {
      "cell_type": "code",
      "source": [
        "體溫 = float(input(\"請輸入你的體溫\"))\n",
        "if 體溫 > 37.5 or 體溫 < 36:\n",
        "    print(\"體溫異常,請重新量測!\")\n",
        "else:\n",
        "  print(\"體溫正常,請進校園!\")"
      ],
      "metadata": {
        "colab": {
          "base_uri": "https://localhost:8080/"
        },
        "id": "6viawkB1B7GU",
        "outputId": "52e12695-ddd9-4b28-c5d7-73e4e1ac6eaa"
      },
      "execution_count": 64,
      "outputs": [
        {
          "output_type": "stream",
          "name": "stdout",
          "text": [
            "請輸入你的體溫37.4\n",
            "體溫正常,請進校園!\n"
          ]
        }
      ]
    }
  ]
}